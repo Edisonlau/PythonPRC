{
 "cells": [
  {
   "cell_type": "markdown",
   "metadata": {},
   "source": [
    "# 函数"
   ]
  },
  {
   "cell_type": "markdown",
   "metadata": {},
   "source": [
    "圆的计算公式 S = πr2，知道r就可以计算出面积。\n",
    "计算3个不同大小的圆的面积："
   ]
  },
  {
   "cell_type": "code",
   "execution_count": 2,
   "metadata": {
    "collapsed": true
   },
   "outputs": [],
   "source": [
    "r1 = 12.34\n",
    "r2 = 9.08\n",
    "r3 = 73.1\n",
    "s1 = 3.14 * r1 * r1\n",
    "s2 = 3.14 * r2 * r2\n",
    "s3 = 3.14 * r3 * r3"
   ]
  },
  {
   "cell_type": "markdown",
   "metadata": {},
   "source": [
    "函数 s = area_of_circle(x) 写一次 多次调用"
   ]
  },
  {
   "cell_type": "markdown",
   "metadata": {},
   "source": [
    "### 抽象\n",
    "抽象是数学中非常常见的概念\n",
    "计算数列的和，比如：1 + 2 + 3 + ... + 100，写起来十分不方便，于是数学家发明了求和符号∑，可以把1 + 2 + 3 + ... + 100记作：\n",
    "\n",
    "100\n",
    "\n",
    "∑n\n",
    "\n",
    "n=1\n",
    "\n",
    "这种抽象记法非常强大，因为我们看到 ∑ 就可以理解成求和，而不是还原成低级的加法运算。\n",
    "\n",
    "而且，这种抽象记法是可扩展的，比如：\n",
    "\n",
    "100\n",
    "\n",
    "∑(n2+1)\n",
    "\n",
    "n=1\n",
    "\n",
    "还原成加法运算就变成了：\n",
    "\n",
    "(1 x 1 + 1) + (2 x 2 + 1) + (3 x 3 + 1) + ... + (100 x 100 + 1)\n",
    "\n",
    "可见，借助抽象，我们才能不关心底层的具体计算过程，而直接在更高的层次上思考问题。\n",
    "\n",
    "写计算机程序也是一样，函数就是最基本的一种代码抽象的方式。\n"
   ]
  }
 ],
 "metadata": {
  "kernelspec": {
   "display_name": "Python 3",
   "language": "python",
   "name": "python3"
  },
  "language_info": {
   "codemirror_mode": {
    "name": "ipython",
    "version": 3
   },
   "file_extension": ".py",
   "mimetype": "text/x-python",
   "name": "python",
   "nbconvert_exporter": "python",
   "pygments_lexer": "ipython3",
   "version": "3.5.3"
  }
 },
 "nbformat": 4,
 "nbformat_minor": 2
}
